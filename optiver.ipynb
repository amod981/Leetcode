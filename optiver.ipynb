{
 "cells": [
  {
   "cell_type": "markdown",
   "id": "42ba7aea",
   "metadata": {},
   "source": [
    "# Answer 1"
   ]
  },
  {
   "cell_type": "code",
   "execution_count": 57,
   "id": "1f6a0b52",
   "metadata": {},
   "outputs": [],
   "source": [
    "import random\n",
    "import time"
   ]
  },
  {
   "cell_type": "code",
   "execution_count": 58,
   "id": "ce45ec50",
   "metadata": {},
   "outputs": [
    {
     "name": "stdout",
     "output_type": "stream",
     "text": [
      "4.4726\n"
     ]
    }
   ],
   "source": [
    "steps = [(-10,0),(10,0),(0,-10),(0,10)]\n",
    "trials = 10000\n",
    "current = 0\n",
    "total_time = 0\n",
    "while (current < trials):\n",
    "    start = (0,0)\n",
    "    time = 0\n",
    "    while time <= 1000:\n",
    "        move = steps[random.randint(0,3)]\n",
    "        location = (start[0]+move[0],start[1] + move[1])\n",
    "        time = time + 1\n",
    "        if (location[0] in (20,-20) and abs(location[1])<=20 ) or (location[1] in (20,-20) and abs(location[0])<=20 ): # specify boundary\n",
    "            total_time = total_time + time\n",
    "            break\n",
    "        start = location\n",
    "        \n",
    "    current = current + 1\n",
    "    \n",
    "print(total_time/trials)"
   ]
  },
  {
   "cell_type": "markdown",
   "id": "7d724c3a",
   "metadata": {},
   "source": [
    "# Answer 2"
   ]
  },
  {
   "cell_type": "code",
   "execution_count": 59,
   "id": "93611dc0",
   "metadata": {},
   "outputs": [
    {
     "name": "stdout",
     "output_type": "stream",
     "text": [
      "24.29604\n"
     ]
    }
   ],
   "source": [
    "steps = [(-10,0),(10,0),(0,-10),(0,10)]\n",
    "trials = 100000\n",
    "current = 0\n",
    "total_time = 0\n",
    "while (current < trials):\n",
    "    start = (0,0)\n",
    "    time = 0\n",
    "    while time <= 1000:\n",
    "        move = steps[random.randint(0,3)]\n",
    "        location = (start[0]+move[0],start[1] + move[1])\n",
    "        time = time + 1\n",
    "        if (location[0] + location[1] == 10 ): #specify boundary , it will be a line\n",
    "            total_time = total_time + time\n",
    "            break\n",
    "        start = location\n",
    "        \n",
    "    current = current + 1\n",
    "    \n",
    "print(total_time/trials)\n"
   ]
  },
  {
   "cell_type": "markdown",
   "id": "d83ad148",
   "metadata": {},
   "source": [
    "# Answer 3"
   ]
  },
  {
   "cell_type": "code",
   "execution_count": 60,
   "id": "29e3adc9",
   "metadata": {},
   "outputs": [
    {
     "name": "stdout",
     "output_type": "stream",
     "text": [
      "14.0237\n"
     ]
    }
   ],
   "source": [
    "steps = [(-10,0),(10,0),(0,-10),(0,10)]\n",
    "trials = 10000\n",
    "current = 0\n",
    "total_time = 0\n",
    "while (current < trials):\n",
    "    start = (0,0)\n",
    "    time = 0\n",
    "    while time <= 1000:\n",
    "        move = steps[random.randint(0,3)]\n",
    "        location = (start[0]+move[0],start[1] + move[1])\n",
    "        time = time + 1\n",
    "        if (((location[0] - 2.5)**2/30**2) + ((location[1] - 2.5)**2 /40**2 ) >= 1): # specify boundary\n",
    "            total_time = total_time + time\n",
    "            break\n",
    "        start = location\n",
    "        \n",
    "    current = current + 1\n",
    "    \n",
    "print(total_time/trials)"
   ]
  },
  {
   "cell_type": "code",
   "execution_count": null,
   "id": "9cce2acf",
   "metadata": {},
   "outputs": [],
   "source": []
  },
  {
   "cell_type": "code",
   "execution_count": null,
   "id": "3951509f",
   "metadata": {},
   "outputs": [],
   "source": []
  }
 ],
 "metadata": {
  "hide_input": false,
  "kernelspec": {
   "display_name": "Python 3 (ipykernel)",
   "language": "python",
   "name": "python3"
  },
  "language_info": {
   "codemirror_mode": {
    "name": "ipython",
    "version": 3
   },
   "file_extension": ".py",
   "mimetype": "text/x-python",
   "name": "python",
   "nbconvert_exporter": "python",
   "pygments_lexer": "ipython3",
   "version": "3.7.13"
  }
 },
 "nbformat": 4,
 "nbformat_minor": 5
}
